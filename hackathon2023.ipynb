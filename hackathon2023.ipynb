{
 "cells": [
  {
   "cell_type": "markdown",
   "metadata": {},
   "source": [
    "# Hackathon 2023\n",
    "\n",
    "In this notebook, we use Langchain to index annual report documents, chunk/split them up, generate OpenAI embeddings, and insert into our Azure Cognitive Search Vector store to search and retrieve the most relevant information. This index can now be used for Retreival-Augmented-Generation applications to retrieve context needed for chatting with LLMs on our own data."
   ]
  },
  {
   "cell_type": "code",
   "execution_count": null,
   "metadata": {},
   "outputs": [],
   "source": [
    "! pip install openai\n",
    "! pip install azure-search-documents --pre\n",
    "! pip install azure-identity\n",
    "! pip install langchain\n",
    "! pip install pypdf\n",
    "! pip install python-dotenv\n"
   ]
  },
  {
   "cell_type": "markdown",
   "metadata": {},
   "source": [
    "## Import required libraries and environment variables"
   ]
  },
  {
   "cell_type": "code",
   "execution_count": 7,
   "metadata": {},
   "outputs": [],
   "source": [
    "# Import required libraries  \n",
    "import openai\n",
    "import os  \n",
    "from dotenv import load_dotenv\n",
    "from langchain.embeddings.openai import OpenAIEmbeddings\n",
    "from langchain.vectorstores.azuresearch import AzureSearch\n",
    "from azure.search.documents.indexes.models import (\n",
    "    SemanticSettings,\n",
    "    SemanticConfiguration,\n",
    "    PrioritizedFields,\n",
    "    SemanticField\n",
    ")"
   ]
  },
  {
   "cell_type": "markdown",
   "metadata": {},
   "source": [
    "## Configure OpenAI Settings"
   ]
  },
  {
   "cell_type": "code",
   "execution_count": 8,
   "metadata": {},
   "outputs": [],
   "source": [
    "# Configure environment variables  \n",
    "load_dotenv()  \n",
    "openai.api_type: str = \"azure\"  \n",
    "openai.api_key = os.getenv(\"AZURE_OPENAI_API_KEY\")  \n",
    "openai.api_base = os.getenv(\"AZURE_OPENAI_ENDPOINT\")  \n",
    "openai.api_version = os.getenv(\"AZURE_OPENAI_API_VERSION\")  \n",
    "model: str = os.getenv(\"AZURE_OPENAI_EMBEDDING_DEPLOYED_MODEL\") "
   ]
  },
  {
   "cell_type": "markdown",
   "metadata": {},
   "source": [
    "## Configure Vector Store Settings"
   ]
  },
  {
   "cell_type": "code",
   "execution_count": 9,
   "metadata": {},
   "outputs": [],
   "source": [
    "vector_store_address: str = os.getenv(\"AZURE_SEARCH_SERVICE_ENDPOINT\")  \n",
    "vector_store_password: str = os.getenv(\"AZURE_SEARCH_ADMIN_KEY\") \n",
    "index_name: str = \"hackathon-2023-index\""
   ]
  },
  {
   "cell_type": "markdown",
   "metadata": {},
   "source": [
    "## Create embeddings and vector store instances\n",
    "Read your data, generate OpenAI embeddings and export to a format to insert your Azure Cognitive Search index:"
   ]
  },
  {
   "cell_type": "code",
   "execution_count": 11,
   "metadata": {},
   "outputs": [],
   "source": [
    "embeddings: OpenAIEmbeddings = OpenAIEmbeddings(deployment=model, model=model, chunk_size=1, openai_api_base=os.getenv(\"AZURE_OPENAI_ENDPOINT\"), openai_api_type=\"azure\" )\n",
    "index_name: str = \"hackathon-2023-index\"\n",
    "vector_store: AzureSearch = AzureSearch(\n",
    "    azure_search_endpoint=vector_store_address,\n",
    "    azure_search_key=vector_store_password,\n",
    "    index_name=index_name,\n",
    "    embedding_function=embeddings.embed_query,\n",
    "    semantic_configuration_name='config',\n",
    "        semantic_settings=SemanticSettings(\n",
    "            default_configuration='config',\n",
    "            configurations=[\n",
    "                SemanticConfiguration(\n",
    "                    name='config',\n",
    "                    prioritized_fields=PrioritizedFields(\n",
    "                        title_field=SemanticField(field_name='content'),\n",
    "                        prioritized_content_fields=[SemanticField(field_name='content')],\n",
    "                        prioritized_keywords_fields=[SemanticField(field_name='metadata')]\n",
    "                    ))\n",
    "            ])\n",
    "    )"
   ]
  },
  {
   "cell_type": "code",
   "execution_count": null,
   "metadata": {},
   "outputs": [],
   "source": [
    "from langchain.text_splitter import CharacterTextSplitter\n",
    "from langchain.document_loaders import PyPDFDirectoryLoader\n",
    "\n",
    "loader = PyPDFDirectoryLoader(\"data/\")\n",
    "documents = loader.load()\n",
    "pages = loader.load_and_split()\n",
    "text_splitter = CharacterTextSplitter(chunk_size=1000, chunk_overlap=0)\n",
    "docs = text_splitter.split_documents(documents)\n",
    "\n",
    "vector_store.add_documents(documents=docs)"
   ]
  },
  {
   "cell_type": "code",
   "execution_count": 15,
   "metadata": {},
   "outputs": [
    {
     "name": "stdout",
     "output_type": "stream",
     "text": [
      "--------------------------------------------------------------------------------\n",
      "Content: Area of judgements, assumptions and accounting estimates Explanatory notes\n",
      "The discounted cash flows used for impairment testing Note 27 ‘Goodwill and intangible assets’\n",
      "The useful lives of intangible assets with finite useful lives Note 27 ‘Goodwill and intangible assets’\n",
      "The assessment of the adequacy of liabilities for pending  \n",
      "or expected income tax audits over previous yearsNote 17 ‘Income taxes’\n",
      "The recoverability of deferred tax assets Note 17 ‘Income taxes’\n",
      "The actuarial assumptions used for the measurement  \n",
      "of defined benefit obligationsNote 13 ‘Post-employment benefits’\n",
      "Revenue recognition with regard to multiple-element arrangements Note 8 ‘Revenue’\n",
      "Impairment of financial assets expected credit losses Note 22.2 ‘Expected credit losses’\n",
      "5. CHANGES IN SIGNIFICANT ACCOUNTING POLICIES\n",
      "Financial reporting standards applied for the first time in 2021\n",
      "The consolidated statements of the Group as disclosed in this annual report take into account new standards \n",
      "applicable as from January 1, 2021. Following standards and amendments were applied for the first time to the \n",
      "Group’s financial statements for the year 2021. These standards were either not applicable or did not have a \n",
      "material impact to the Group’s financial statements. \n",
      "It relates to :  \n",
      " ·Amendments to IFRS 9, IAS 39, IFRS 7, IFRS 4 and IFRS 16 Interest Rate Benchmark Reform – Phase 2  \n",
      "(issued on August, 27 2020) \n",
      " ·Amendments to IFRS 4 Insurance Contracts – deferral of IFRS 9 (issued on June 25, 2020)\n",
      " ·Amendments to IFRS 16 Leases: COVID-19-Related Rent Concessions beyond June 30, 2021 (issued on \n",
      "March, 31 2021) – effective as from April 1, 2021. The pronouncement amended IFRS 16 Leases to pro-\n",
      "vide lessees with an exemption from assessing whether a COVID-19-related rent concession is a lease  \n",
      "modification. On issuance, the practical expedient was limited to rent concessions for which any  \n",
      "reduction in lease payments affects only payments originally due on or before June 30, 2021. Since \n",
      "lessors continue to grant COVID-19-related rent concessions to lessees and since the effects of the \n",
      "COVID-19 pandemic are ongoing and significant, the IASB decided to extend the time period over  \n",
      "which the practical expedient is available for use.\n",
      "139\n",
      "AgfA- g evA ert – Annu A l r eport 2021\n",
      "Score: 0.014084506779909134\n",
      "Caption: <em>area of judgements, assumptions</em> and accounting estimates explanatory notes the discounted cash flows used for impairment testing note 27 ‘goodwill and intangible assets’<em> the</em> useful lives of intangible assets with finite useful lives note 27 ‘goodwill and intangible assets’<em> the</em> assessment of<em> the</em> adequacy of liabilities for pending   or expected …\n",
      "--------------------------------------------------------------------------------\n",
      "Content: NOTES TO THE CONSOLIDATED FINANCIAL STATEMENTSBASIS OF PREPARATION\n",
      "1. REPORTING ENTITY\n",
      "Agfa-Gevaert NV (‘the Company’) is a company established in Belgium. The address of the Company’s registered office is Septestraat 27 , \n",
      "2640 Mortsel.\n",
      "The 2019 Consolidated Financial Statements of the Group include the Company and 106 consolidated subsidiaries (2018: 108 consolidated \n",
      "subsidiaries) controlled by the Company. Investments in subsidiaries and associates are listed in Note 42 and 43.\n",
      "Non-controlling interests have a material interest in eight subsidiaries in greater China and the ASEAN region. The financials are explained in \n",
      "Note 37 .8. In Europe, there are a few subsidiaries in which non-controlling interests have an interest that is of minor importance to the Group.\n",
      "2. BASIS OF ACCOUNTING\n",
      "The consolidated financial statements have been prepared in accordance with the International Financial Reporting Standards (IFRS) \n",
      "issued by the International Accounting Standards Board (IASB), as adopted by the European Union up to December 31, 2019.\n",
      "The Group has not early adopted any new IFRS requirements that were not yet effective in 2019. Further information is provided in Note 51 \n",
      "‘New standards and interpretations issued but not yet affective’ . The consolidated financial statements were authorized for issue by the \n",
      "Board of Directors on March 24, 2020.\n",
      "3. FUNCTIONAL AND PRESENTATION CURRENCY\n",
      "The consolidated financial statements are presented in Euro, which is the Company’s functional currency. All financial information \n",
      "presented in Euro has been rounded to the nearest million, except when otherwise indicated. By using roundings, the sum of line items \n",
      "presented in a table may not always match with (sub)totals as this total itself has been rounded to the nearest million and is not the \n",
      "sum of rounded data.\n",
      "4. USE OF ESTIMATES AND JUDGMENTS\n",
      "In preparing these consolidated financial statements, management has made judgements and estimates that affect the Group’s  \n",
      "accounting policies and the reported amounts of assets, liabilities, income and expense. \n",
      "Revisions to accounting estimates are recognized prospectively. Accounting estimates and underlying assumptions are continually \n",
      "reviewed but may vary from the actual values.\n",
      "The areas involving a higher degree of judgment or complexity, or areas where assumptions and estimates are significant to the consolidated \n",
      "financial statements are listed below with reference to the respective note(s) where more information is disclosed.\n",
      "Area of judgements, assumptions and accounting estimates Explanatory notes\n",
      "The discounted cash flows used for impairment testing Note 27 Goodwill and intangible assets\n",
      "The useful lives of intangible assets with finite useful lives Note 27 Goodwill and intangible assets\n",
      "The assessment of the adequacy of liabilities for pending  \n",
      "or expected income tax audits over previous yearsNote 17 Income taxes\n",
      "The recoverability of deferred tax assets Note 17 Income taxes\n",
      "The actuarial assumptions used for the measurement  \n",
      "of defined benefit obligationsNote 13 Post-employment benefits\n",
      "Revenue recognition with regard to multiple-element arrangements Note 8 Revenue\n",
      "Impairment of financial assets expected credit losses Note 22.2 Expected credit losses\n",
      "106\n",
      "Score: 0.03253968432545662\n",
      "Caption: <em>area of judgements, assumptions</em> and accounting estimates explanatory notes the discounted cash flows used for impairment testing note 27 goodwill and intangible assets<em> the</em> useful lives of intangible assets with finite useful lives note 27 goodwill and intangible assets<em> the</em> assessment of<em> the</em> adequacy of liabilities for pending   or expected income …\n",
      "--------------------------------------------------------------------------------\n",
      "Content: BASIS OF PREPARATION\n",
      "1. REPORTING ENTITY\n",
      "Agfa-Gevaert NV (‘the Company’) is a company established in Belgium. The address of the Company’s registered office is \n",
      "Septestraat 27, 2640 Mortsel.\n",
      "The 2022 Consolidated Financial Statements of the Group include the Company and 99 consolidated subsidiaries (2021: 96 \n",
      "consolidated subsidiaries) controlled by the Company. Investments in subsidiaries are listed in Note 42.\n",
      "Non-controlling interests have a material interest in nine subsidiaries in greater China and the ASEAN region. The financials \n",
      "are explained in Note 37.8. In Europe, there are a few subsidiaries in which non-controlling interests have an interest that is of \n",
      "minor importance to the Group.\n",
      "2. BASIS OF ACCOUNTING\n",
      "The consolidated financial statements have been prepared in accordance with the International Financial Reporting Stan-\n",
      "dards (IFRS) issued by the International Accounting Standards Board (IASB), as adopted by the European Union up to \n",
      "December 31, 2022.\n",
      "The Group has not early adopted any new IFRS requirements that were not yet effective in 2022. Further information is \n",
      "provided in Note 51 ‘New standards and interpretations issued but not yet effective’ The consolidated financial statements \n",
      "were authorized for issue by the Board of Directors on March 21, 2023.\n",
      "3. FUNCTIONAL AND PRESENTATION CURRENCY\n",
      "The consolidated financial statements are presented in Euro, which is the Company’s functional currency. All financial \n",
      "information presented in Euro has been rounded to the nearest million, except when otherwise indicated. By using round-\n",
      "ed numbers, the sum of line items presented in a table may not always match with (sub)totals as this total itself has been \n",
      "rounded to the nearest million and is not the sum of rounded data.\n",
      "4. USE OF ESTIMATES AND JUDGMENTS\n",
      "In preparing these consolidated financial statements, management has made judgments and estimates that affect the \n",
      "Group’s accounting policies and the reported amounts of assets, liabilities, income and expense.\n",
      "Revisions to accounting estimates are recognized prospectively. Accounting estimates and underlying assumptions are \n",
      "continually reviewed but may vary from the actual values.\n",
      "The areas involving a higher degree of judgment or complexity, or areas where assumptions and estimates are significant \n",
      "to the consolidated financial statements are listed below with reference to the respective note(s) where more informa-\n",
      "tion is disclosed.\n",
      "Area of judgments, assumptions and accounting estimates Explanatory notes\n",
      "The discounted cash flows used for impairment testing Note 27 Goodwill and intangible assets\n",
      "The assessment of the adequacy of liabilities for pending  \n",
      "or expected income tax audits over previous yearsNote 17 Income taxes\n",
      "The recoverability of deferred tax assets Note 17 Income taxes\n",
      "The actuarial assumptions used for the measurement  \n",
      "of defined benefit obligationsNote 13 Post-employment benefits\n",
      "Revenue recognition with regard to multiple-element arrangements Note 8 Revenue\n",
      "Impairment of financial assets expected credit losses Note 22.2 Expected credit losses\n",
      "162\n",
      "NOTES TO THE CONSOLIDATED FINANCIAL STATEMENTS\n",
      "Score: 0.03306011110544205\n",
      "Caption: <em>area</em> of<em> judgments, assumptions</em> and accounting estimates explanatory notes the discounted cash flows used for impairment testing note 27 goodwill and intangible assets<em> the</em> assessment of<em> the</em> adequacy of liabilities for pending   or expected income tax audits over previous yearsnote 17 income taxes<em> the</em> recoverability of deferred tax assets note 17 …\n"
     ]
    }
   ],
   "source": [
    "# Perform a hybrid search with semantic reranking  \n",
    "docs_and_scores = vector_store.semantic_hybrid_search_with_score(  \n",
    "    query=\"What are some areas of judgement, assumptions, and accounting estimates in Agfa-Gevaert NV's consolidated financial statements, and which explanatory notes provide more information on them?\",  \n",
    "    k=3,  \n",
    ")  \n",
    "  \n",
    "# Print the results  \n",
    "for doc, score in docs_and_scores:  \n",
    "    print(\"-\" * 80)  \n",
    "    answers = doc.metadata['answers']  \n",
    "    if answers:  \n",
    "        if answers.get('highlights'):  \n",
    "            print(f\"Semantic Answer: {answers['highlights']}\")  \n",
    "        else:  \n",
    "            print(f\"Semantic Answer: {answers['text']}\")  \n",
    "        print(f\"Semantic Answer Score: {score}\")  \n",
    "    print(\"Content:\", doc.page_content)  \n",
    "    captions = doc.metadata['captions']\n",
    "    print(f\"Score: {score}\") \n",
    "    if captions:  \n",
    "        if captions.get('highlights'):  \n",
    "            print(f\"Caption: {captions['highlights']}\")  \n",
    "        else:  \n",
    "            print(f\"Caption: {captions['text']}\")  \n",
    "    else:  \n",
    "        print(\"Caption not available\") "
   ]
  },
  {
   "cell_type": "markdown",
   "metadata": {},
   "source": []
  },
  {
   "cell_type": "code",
   "execution_count": null,
   "metadata": {},
   "outputs": [],
   "source": []
  }
 ],
 "metadata": {
  "kernelspec": {
   "display_name": "Python 3",
   "language": "python",
   "name": "python3"
  },
  "language_info": {
   "codemirror_mode": {
    "name": "ipython",
    "version": 3
   },
   "file_extension": ".py",
   "mimetype": "text/x-python",
   "name": "python",
   "nbconvert_exporter": "python",
   "pygments_lexer": "ipython3",
   "version": "3.11.5"
  },
  "orig_nbformat": 4
 },
 "nbformat": 4,
 "nbformat_minor": 2
}
